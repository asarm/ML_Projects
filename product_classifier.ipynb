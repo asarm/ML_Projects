{
  "nbformat": 4,
  "nbformat_minor": 0,
  "metadata": {
    "colab": {
      "name": "product_classifier.ipynb",
      "provenance": [],
      "mount_file_id": "1u3ZH0JjoRkWwu5s4R264dtC2ycVEVN9B",
      "authorship_tag": "ABX9TyPrUEDjKEhYeFk/k+ixC371",
      "include_colab_link": true
    },
    "kernelspec": {
      "name": "python3",
      "display_name": "Python 3"
    },
    "language_info": {
      "name": "python"
    }
  },
  "cells": [
    {
      "cell_type": "markdown",
      "metadata": {
        "id": "view-in-github",
        "colab_type": "text"
      },
      "source": [
        "<a href=\"https://colab.research.google.com/github/asarm/ML_Projects/blob/main/product_classifier.ipynb\" target=\"_parent\"><img src=\"https://colab.research.google.com/assets/colab-badge.svg\" alt=\"Open In Colab\"/></a>"
      ]
    },
    {
      "cell_type": "code",
      "metadata": {
        "id": "e0EeGo7DSWmI"
      },
      "source": [
        "import nltk\n",
        "import re\n",
        "from gensim.models import Word2Vec\n",
        "from nltk.corpus import stopwords \n",
        "import numpy as np\n",
        "import pandas as pd\n",
        "import matplotlib.pyplot as plt\n",
        "import string\n",
        "from sklearn.preprocessing import LabelEncoder "
      ],
      "execution_count": 205,
      "outputs": []
    },
    {
      "cell_type": "code",
      "metadata": {
        "colab": {
          "base_uri": "https://localhost:8080/"
        },
        "id": "tx2oeSfcSyOK",
        "outputId": "873729d2-dc77-4057-99d6-41c2cd46c8fe"
      },
      "source": [
        "nltk.download('punkt')\n",
        "nltk.download('stopwords')"
      ],
      "execution_count": 206,
      "outputs": [
        {
          "output_type": "stream",
          "name": "stdout",
          "text": [
            "[nltk_data] Downloading package punkt to /root/nltk_data...\n",
            "[nltk_data]   Package punkt is already up-to-date!\n",
            "[nltk_data] Downloading package stopwords to /root/nltk_data...\n",
            "[nltk_data]   Package stopwords is already up-to-date!\n"
          ]
        },
        {
          "output_type": "execute_result",
          "data": {
            "text/plain": [
              "True"
            ]
          },
          "metadata": {},
          "execution_count": 206
        }
      ]
    },
    {
      "cell_type": "code",
      "metadata": {
        "id": "COeXCq6oSicq"
      },
      "source": [
        "from google.colab import drive\n",
        "drive.mount('/content/drive')"
      ],
      "execution_count": null,
      "outputs": []
    },
    {
      "cell_type": "code",
      "metadata": {
        "colab": {
          "base_uri": "https://localhost:8080/"
        },
        "id": "ni66Tij1TAIl",
        "outputId": "2d9de914-f8e5-4e6c-bbc2-9b4ac5f56cac"
      },
      "source": [
        "%cd /content/drive/MyDrive/Colab Notebooks/udemy_ml"
      ],
      "execution_count": 4,
      "outputs": [
        {
          "output_type": "stream",
          "name": "stdout",
          "text": [
            "/content/drive/MyDrive/Colab Notebooks/udemy_ml\n"
          ]
        }
      ]
    },
    {
      "cell_type": "code",
      "metadata": {
        "colab": {
          "base_uri": "https://localhost:8080/",
          "height": 203
        },
        "id": "Rq5wBzYNTDwS",
        "outputId": "9774afb4-359c-4580-8477-b412cf2e9f72"
      },
      "source": [
        "df = pd.read_csv('products.csv')\n",
        "df.head(5)"
      ],
      "execution_count": 207,
      "outputs": [
        {
          "output_type": "execute_result",
          "data": {
            "text/html": [
              "<div>\n",
              "<style scoped>\n",
              "    .dataframe tbody tr th:only-of-type {\n",
              "        vertical-align: middle;\n",
              "    }\n",
              "\n",
              "    .dataframe tbody tr th {\n",
              "        vertical-align: top;\n",
              "    }\n",
              "\n",
              "    .dataframe thead th {\n",
              "        text-align: right;\n",
              "    }\n",
              "</style>\n",
              "<table border=\"1\" class=\"dataframe\">\n",
              "  <thead>\n",
              "    <tr style=\"text-align: right;\">\n",
              "      <th></th>\n",
              "      <th>1</th>\n",
              "      <th>apple iphone 8 plus 64gb silver</th>\n",
              "      <th>1.1</th>\n",
              "      <th>1.2</th>\n",
              "      <th>Apple iPhone 8 Plus 64GB</th>\n",
              "      <th>2612</th>\n",
              "      <th>Mobile Phones</th>\n",
              "    </tr>\n",
              "  </thead>\n",
              "  <tbody>\n",
              "    <tr>\n",
              "      <th>0</th>\n",
              "      <td>2</td>\n",
              "      <td>apple iphone 8 plus 64 gb spacegrau</td>\n",
              "      <td>2</td>\n",
              "      <td>1</td>\n",
              "      <td>Apple iPhone 8 Plus 64GB</td>\n",
              "      <td>2612</td>\n",
              "      <td>Mobile Phones</td>\n",
              "    </tr>\n",
              "    <tr>\n",
              "      <th>1</th>\n",
              "      <td>3</td>\n",
              "      <td>apple mq8n2b/a iphone 8 plus 64gb 5.5 12mp sim...</td>\n",
              "      <td>3</td>\n",
              "      <td>1</td>\n",
              "      <td>Apple iPhone 8 Plus 64GB</td>\n",
              "      <td>2612</td>\n",
              "      <td>Mobile Phones</td>\n",
              "    </tr>\n",
              "    <tr>\n",
              "      <th>2</th>\n",
              "      <td>4</td>\n",
              "      <td>apple iphone 8 plus 64gb space grey</td>\n",
              "      <td>4</td>\n",
              "      <td>1</td>\n",
              "      <td>Apple iPhone 8 Plus 64GB</td>\n",
              "      <td>2612</td>\n",
              "      <td>Mobile Phones</td>\n",
              "    </tr>\n",
              "    <tr>\n",
              "      <th>3</th>\n",
              "      <td>5</td>\n",
              "      <td>apple iphone 8 plus gold 5.5 64gb 4g unlocked ...</td>\n",
              "      <td>5</td>\n",
              "      <td>1</td>\n",
              "      <td>Apple iPhone 8 Plus 64GB</td>\n",
              "      <td>2612</td>\n",
              "      <td>Mobile Phones</td>\n",
              "    </tr>\n",
              "    <tr>\n",
              "      <th>4</th>\n",
              "      <td>6</td>\n",
              "      <td>apple iphone 8 plus gold 5.5 64gb 4g unlocked ...</td>\n",
              "      <td>6</td>\n",
              "      <td>1</td>\n",
              "      <td>Apple iPhone 8 Plus 64GB</td>\n",
              "      <td>2612</td>\n",
              "      <td>Mobile Phones</td>\n",
              "    </tr>\n",
              "  </tbody>\n",
              "</table>\n",
              "</div>"
            ],
            "text/plain": [
              "   1                    apple iphone 8 plus 64gb silver  ...  2612  Mobile Phones\n",
              "0  2                apple iphone 8 plus 64 gb spacegrau  ...  2612  Mobile Phones\n",
              "1  3  apple mq8n2b/a iphone 8 plus 64gb 5.5 12mp sim...  ...  2612  Mobile Phones\n",
              "2  4                apple iphone 8 plus 64gb space grey  ...  2612  Mobile Phones\n",
              "3  5  apple iphone 8 plus gold 5.5 64gb 4g unlocked ...  ...  2612  Mobile Phones\n",
              "4  6  apple iphone 8 plus gold 5.5 64gb 4g unlocked ...  ...  2612  Mobile Phones\n",
              "\n",
              "[5 rows x 7 columns]"
            ]
          },
          "metadata": {},
          "execution_count": 207
        }
      ]
    },
    {
      "cell_type": "code",
      "metadata": {
        "colab": {
          "base_uri": "https://localhost:8080/",
          "height": 192
        },
        "id": "f280xZxETIz_",
        "outputId": "4ee72939-984c-4609-ed2a-a760171d6e93"
      },
      "source": [
        "print(df.keys())\n",
        "\n",
        "df['Title'] = df['apple iphone 8 plus 64gb silver']\n",
        "df['Label'] = df['Mobile Phones']\n",
        "df = df.drop(['1','apple iphone 8 plus 64gb silver','1.1','1.2','Apple iPhone 8 Plus 64GB','2612','Mobile Phones'], axis=1)\n",
        "df['Label'] = df['Label'].str.lower()\n",
        "\n",
        "encoder = LabelEncoder()\n",
        "label_id = encoder.fit_transform(df['Label'])\n",
        "classes = encoder.classes_\n",
        "df['label_id'] = label_id\n",
        "\n",
        "df.head(3)"
      ],
      "execution_count": 208,
      "outputs": [
        {
          "output_type": "stream",
          "name": "stdout",
          "text": [
            "Index(['1', 'apple iphone 8 plus 64gb silver', '1.1', '1.2',\n",
            "       'Apple iPhone 8 Plus 64GB', '2612', 'Mobile Phones'],\n",
            "      dtype='object')\n"
          ]
        },
        {
          "output_type": "execute_result",
          "data": {
            "text/html": [
              "<div>\n",
              "<style scoped>\n",
              "    .dataframe tbody tr th:only-of-type {\n",
              "        vertical-align: middle;\n",
              "    }\n",
              "\n",
              "    .dataframe tbody tr th {\n",
              "        vertical-align: top;\n",
              "    }\n",
              "\n",
              "    .dataframe thead th {\n",
              "        text-align: right;\n",
              "    }\n",
              "</style>\n",
              "<table border=\"1\" class=\"dataframe\">\n",
              "  <thead>\n",
              "    <tr style=\"text-align: right;\">\n",
              "      <th></th>\n",
              "      <th>Title</th>\n",
              "      <th>Label</th>\n",
              "      <th>label_id</th>\n",
              "    </tr>\n",
              "  </thead>\n",
              "  <tbody>\n",
              "    <tr>\n",
              "      <th>0</th>\n",
              "      <td>apple iphone 8 plus 64 gb spacegrau</td>\n",
              "      <td>mobile phones</td>\n",
              "      <td>7</td>\n",
              "    </tr>\n",
              "    <tr>\n",
              "      <th>1</th>\n",
              "      <td>apple mq8n2b/a iphone 8 plus 64gb 5.5 12mp sim...</td>\n",
              "      <td>mobile phones</td>\n",
              "      <td>7</td>\n",
              "    </tr>\n",
              "    <tr>\n",
              "      <th>2</th>\n",
              "      <td>apple iphone 8 plus 64gb space grey</td>\n",
              "      <td>mobile phones</td>\n",
              "      <td>7</td>\n",
              "    </tr>\n",
              "  </tbody>\n",
              "</table>\n",
              "</div>"
            ],
            "text/plain": [
              "                                               Title          Label  label_id\n",
              "0                apple iphone 8 plus 64 gb spacegrau  mobile phones         7\n",
              "1  apple mq8n2b/a iphone 8 plus 64gb 5.5 12mp sim...  mobile phones         7\n",
              "2                apple iphone 8 plus 64gb space grey  mobile phones         7"
            ]
          },
          "metadata": {},
          "execution_count": 208
        }
      ]
    },
    {
      "cell_type": "code",
      "metadata": {
        "colab": {
          "base_uri": "https://localhost:8080/"
        },
        "id": "spnGzi-dTsik",
        "outputId": "9fbcbdac-51e7-47b9-a5a9-7d20c78e8e33"
      },
      "source": [
        "labels = df['Label']\n",
        "print(len(labels.unique()))\n",
        "uniques = (labels.unique())\n",
        "unique_labels = df['label_id'].unique()\n",
        "values = labels.value_counts().values\n",
        "print(labels.value_counts())"
      ],
      "execution_count": 209,
      "outputs": [
        {
          "output_type": "stream",
          "name": "stdout",
          "text": [
            "10\n",
            "fridge freezers     5501\n",
            "mobile phones       4080\n",
            "washing machines    4044\n",
            "cpus                3862\n",
            "fridges             3584\n",
            "tvs                 3564\n",
            "dishwashers         3424\n",
            "digital cameras     2697\n",
            "microwaves          2342\n",
            "freezers            2212\n",
            "Name: Label, dtype: int64\n"
          ]
        }
      ]
    },
    {
      "cell_type": "code",
      "metadata": {
        "colab": {
          "base_uri": "https://localhost:8080/"
        },
        "id": "IrKDIp8RiHSF",
        "outputId": "9d4905da-8e03-45a2-bc30-291b5bc38b9d"
      },
      "source": [
        "weights = {}\n",
        "for index,value in enumerate(values):\n",
        "  weights[unique_labels[index]] = (value/len(df))*100\n",
        "\n",
        "weights"
      ],
      "execution_count": 210,
      "outputs": [
        {
          "output_type": "execute_result",
          "data": {
            "text/plain": [
              "{0: 11.45284621920136,\n",
              " 1: 10.937411498159163,\n",
              " 2: 10.093457943925234,\n",
              " 3: 7.638062871707732,\n",
              " 4: 6.632681959784764,\n",
              " 5: 6.26451430189748,\n",
              " 6: 10.150099122061738,\n",
              " 7: 15.579156046445766,\n",
              " 8: 11.554800339847068,\n",
              " 9: 9.696969696969697}"
            ]
          },
          "metadata": {},
          "execution_count": 210
        }
      ]
    },
    {
      "cell_type": "code",
      "metadata": {
        "colab": {
          "base_uri": "https://localhost:8080/",
          "height": 363
        },
        "id": "hdFJdWanULRg",
        "outputId": "8ed73c32-5a7a-4510-b9ac-aa4f442b3030"
      },
      "source": [
        "plt.bar(uniques,values)\n",
        "plt.xticks(rotation=70)"
      ],
      "execution_count": 68,
      "outputs": [
        {
          "output_type": "execute_result",
          "data": {
            "text/plain": [
              "([0, 1, 2, 3, 4, 5, 6, 7, 8, 9], <a list of 10 Text major ticklabel objects>)"
            ]
          },
          "metadata": {},
          "execution_count": 68
        },
        {
          "output_type": "display_data",
          "data": {
            "image/png": "[encoded data removed]",
            "text/plain": [
              "<Figure size 432x288 with 1 Axes>"
            ]
          },
          "metadata": {
            "needs_background": "light"
          }
        }
      ]
    },
    {
      "cell_type": "markdown",
      "metadata": {
        "id": "C9pCDQSXYSz2"
      },
      "source": [
        "# TF-idf"
      ]
    },
    {
      "cell_type": "code",
      "metadata": {
        "id": "Nw9PQT4WXCP0"
      },
      "source": [
        "from sklearn.feature_extraction.text import TfidfVectorizer\n",
        "import pickle\n",
        "\n",
        "tfidf = TfidfVectorizer(max_features=5000)\n",
        "X = tfidf.fit_transform(df['Title']).toarray()\n",
        "y = df['label_id'].values\n",
        "\n",
        "pickle.dump(tfidf, open(\"tfidf_products.pickle\", \"wb\"))"
      ],
      "execution_count": 220,
      "outputs": []
    },
    {
      "cell_type": "code",
      "metadata": {
        "id": "Dnt2LyIMbwWd"
      },
      "source": [
        "from sklearn.model_selection import train_test_split\n",
        "from sklearn.metrics import confusion_matrix\n",
        "\n",
        "x_train, x_test, y_train, y_test = train_test_split(X, y, test_size=0.3, random_state=10)"
      ],
      "execution_count": 212,
      "outputs": []
    },
    {
      "cell_type": "code",
      "metadata": {
        "colab": {
          "base_uri": "https://localhost:8080/"
        },
        "id": "w93obXsEb0BN",
        "outputId": "cf0a695f-d7bf-40d5-ea62-1bc8629fea5a"
      },
      "source": [
        "from sklearn.naive_bayes import MultinomialNB\n",
        "\n",
        "nbmodel = MultinomialNB()\n",
        "nbmodel.fit(x_train, y_train)\n",
        "\n",
        "y_pred_nb = nbmodel.predict(x_test)\n",
        "\n",
        "print(\"Training Accuracy:\", nbmodel.score(x_train,y_train))\n",
        "print(\"Testing Accuracy:\", nbmodel.score(x_test,y_test))"
      ],
      "execution_count": 213,
      "outputs": [
        {
          "output_type": "stream",
          "name": "stdout",
          "text": [
            "Training Accuracy: 0.9435206538010277\n",
            "Testing Accuracy: 0.9321249881997545\n"
          ]
        }
      ]
    },
    {
      "cell_type": "code",
      "metadata": {
        "colab": {
          "base_uri": "https://localhost:8080/"
        },
        "id": "I6ARhOkHfQDn",
        "outputId": "61c44408-8a62-486c-a253-dd507bb0168d"
      },
      "source": [
        "from sklearn.linear_model import SGDClassifier\n",
        "\n",
        "sgdmodel = SGDClassifier(class_weight=weights)\n",
        "#sgdmodel = SGDClassifier()\n",
        "sgdmodel.fit(x_train, y_train)\n",
        "\n",
        "y_pred_sgd = sgdmodel.predict(x_test)\n",
        "\n",
        "print(\"Training Accuracy:\", sgdmodel.score(x_train,y_train))\n",
        "print(\"Testing Accuracy:\", sgdmodel.score(x_test,y_test))"
      ],
      "execution_count": 214,
      "outputs": [
        {
          "output_type": "stream",
          "name": "stdout",
          "text": [
            "Training Accuracy: 0.9740664320103573\n",
            "Testing Accuracy: 0.9570471065798168\n"
          ]
        }
      ]
    },
    {
      "cell_type": "code",
      "metadata": {
        "colab": {
          "base_uri": "https://localhost:8080/",
          "height": 296
        },
        "id": "pPO8FqM0fGqp",
        "outputId": "b30ee706-bc20-4681-f2dd-5d678d0973da"
      },
      "source": [
        "from sklearn.metrics import plot_confusion_matrix\n",
        "plot_confusion_matrix(nbmodel, x_test, y_test)"
      ],
      "execution_count": 184,
      "outputs": [
        {
          "output_type": "execute_result",
          "data": {
            "text/plain": [
              "<sklearn.metrics._plot.confusion_matrix.ConfusionMatrixDisplay at 0x7f82888a3ad0>"
            ]
          },
          "metadata": {},
          "execution_count": 184
        },
        {
          "output_type": "display_data",
          "data": {
            "image/png": "[encoded data removed]",
            "text/plain": [
              "<Figure size 432x288 with 2 Axes>"
            ]
          },
          "metadata": {
            "needs_background": "light"
          }
        }
      ]
    },
    {
      "cell_type": "code",
      "metadata": {
        "colab": {
          "base_uri": "https://localhost:8080/",
          "height": 296
        },
        "id": "wIHkzqdYgkOQ",
        "outputId": "093ad552-5af9-46e3-bef6-c8eaa52cc6fe"
      },
      "source": [
        "plot_confusion_matrix(sgdmodel, x_test, y_test)"
      ],
      "execution_count": 222,
      "outputs": [
        {
          "output_type": "execute_result",
          "data": {
            "text/plain": [
              "<sklearn.metrics._plot.confusion_matrix.ConfusionMatrixDisplay at 0x7f8287769310>"
            ]
          },
          "metadata": {},
          "execution_count": 222
        },
        {
          "output_type": "display_data",
          "data": {
            "image/png": "[encoded data removed]",
            "text/plain": [
              "<Figure size 432x288 with 2 Axes>"
            ]
          },
          "metadata": {
            "needs_background": "light"
          }
        }
      ]
    },
    {
      "cell_type": "code",
      "metadata": {
        "colab": {
          "base_uri": "https://localhost:8080/"
        },
        "id": "tQVPJ5UTff6o",
        "outputId": "432bae1f-f36a-4678-b629-eb364befa2f2"
      },
      "source": [
        "from sklearn.metrics import classification_report\n",
        "print(classification_report(y_test, y_pred_sgd))\n",
        "print(classification_report(y_test, y_pred_nb))"
      ],
      "execution_count": 216,
      "outputs": [
        {
          "output_type": "stream",
          "name": "stdout",
          "text": [
            "              precision    recall  f1-score   support\n",
            "\n",
            "           0       1.00      1.00      1.00      1168\n",
            "           1       1.00      1.00      1.00       797\n",
            "           2       0.98      0.90      0.94      1011\n",
            "           3       0.95      0.93      0.94       651\n",
            "           4       0.90      0.96      0.93      1613\n",
            "           5       0.93      0.88      0.91      1090\n",
            "           6       0.98      0.96      0.97       686\n",
            "           7       0.97      0.99      0.98      1218\n",
            "           8       0.99      0.98      0.98      1111\n",
            "           9       0.93      0.97      0.95      1248\n",
            "\n",
            "    accuracy                           0.96     10593\n",
            "   macro avg       0.96      0.96      0.96     10593\n",
            "weighted avg       0.96      0.96      0.96     10593\n",
            "\n",
            "              precision    recall  f1-score   support\n",
            "\n",
            "           0       1.00      1.00      1.00      1168\n",
            "           1       0.99      1.00      0.99       797\n",
            "           2       0.92      0.96      0.94      1011\n",
            "           3       1.00      0.57      0.73       651\n",
            "           4       0.78      0.95      0.85      1613\n",
            "           5       0.87      0.82      0.84      1090\n",
            "           6       0.99      0.96      0.97       686\n",
            "           7       0.99      0.99      0.99      1218\n",
            "           8       0.98      0.98      0.98      1111\n",
            "           9       0.98      0.97      0.97      1248\n",
            "\n",
            "    accuracy                           0.93     10593\n",
            "   macro avg       0.95      0.92      0.93     10593\n",
            "weighted avg       0.94      0.93      0.93     10593\n",
            "\n"
          ]
        }
      ]
    },
    {
      "cell_type": "code",
      "metadata": {
        "id": "lgyb39zedhVr"
      },
      "source": [
        "def predict(model, tfid):\n",
        "  text = input(\"Enter the Product Name: \")\n",
        "  text = tfidf.transform([text]).toarray()\n",
        "  pred = sgdmodel.predict(text.reshape(1,-1))\n",
        "  print(\" \".join(tfidf.inverse_transform(text)[0]),\" --> \",classes[pred[0]])"
      ],
      "execution_count": 218,
      "outputs": []
    },
    {
      "cell_type": "code",
      "metadata": {
        "colab": {
          "base_uri": "https://localhost:8080/"
        },
        "id": "1CBsu6F1cxmo",
        "outputId": "86dabe71-8457-4bee-af2a-b10632712074"
      },
      "source": [
        "tfid = pickle.load(open('tfidf_products.pickle', 'rb'))\n",
        "predict(sgdmodel, tfidf)"
      ],
      "execution_count": 221,
      "outputs": [
        {
          "output_type": "stream",
          "name": "stdout",
          "text": [
            "Enter the Product Name: samsung crystal uhd\n",
            "crystal samsung uhd  -->  tvs\n"
          ]
        }
      ]
    }
  ]
}