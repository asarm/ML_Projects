{
  "nbformat": 4,
  "nbformat_minor": 0,
  "metadata": {
    "colab": {
      "name": "crypto_predictor.ipynb",
      "provenance": [],
      "mount_file_id": "1GU7pVcUjPm2vKc0H8Klyxwu16RYNsT_6",
      "authorship_tag": "ABX9TyOHXROSny2wYGCciku5yW6W",
      "include_colab_link": true
    },
    "kernelspec": {
      "name": "python3",
      "display_name": "Python 3"
    },
    "language_info": {
      "name": "python"
    }
  },
  "cells": [
    {
      "cell_type": "markdown",
      "metadata": {
        "id": "view-in-github",
        "colab_type": "text"
      },
      "source": [
        "<a href=\"https://colab.research.google.com/github/asarm/ML_Projects/blob/main/crypto_predictor.ipynb\" target=\"_parent\"><img src=\"https://colab.research.google.com/assets/colab-badge.svg\" alt=\"Open In Colab\"/></a>"
      ]
    },
    {
      "cell_type": "code",
      "metadata": {
        "colab": {
          "base_uri": "https://localhost:8080/"
        },
        "id": "W7OWhZmNy2HH",
        "outputId": "f1735cb5-3619-4817-ad01-168948208e3c"
      },
      "source": [
        "%cd /content/drive/MyDrive/Colab Notebooks/ml_projects"
      ],
      "execution_count": 4,
      "outputs": [
        {
          "output_type": "stream",
          "name": "stdout",
          "text": [
            "/content/drive/MyDrive/Colab Notebooks/ml_projects\n"
          ]
        }
      ]
    },
    {
      "cell_type": "code",
      "metadata": {
        "id": "r0hKdxRczG_S"
      },
      "source": [
        "import pandas as pd\n",
        "import numpy as np\n",
        "import seaborn\n",
        "from sklearn import preprocessing\n",
        "import random\n",
        "import time\n",
        "\n",
        "import tensorflow as tf\n",
        "from tensorflow.keras.models import Sequential\n",
        "from tensorflow.keras.layers import Dense, Dropout, LSTM, BatchNormalization\n",
        "from tensorflow.keras.callbacks import Callback, ModelCheckpoint"
      ],
      "execution_count": 135,
      "outputs": []
    },
    {
      "cell_type": "code",
      "metadata": {
        "id": "PbjzozCG8sr5"
      },
      "source": [
        "PREDICT_PERIOD = 3\n",
        "SEQ_LEN = 60"
      ],
      "execution_count": 42,
      "outputs": []
    },
    {
      "cell_type": "code",
      "metadata": {
        "id": "pS8FlY2W93tY"
      },
      "source": [
        "def label_class(current,future):\n",
        "  if current > future:\n",
        "    return 0\n",
        "  else:\n",
        "    return 1"
      ],
      "execution_count": 49,
      "outputs": []
    },
    {
      "cell_type": "code",
      "metadata": {
        "colab": {
          "base_uri": "https://localhost:8080/",
          "height": 270
        },
        "id": "vzm0yhDfzNKR",
        "outputId": "1f91bbd5-0a72-4f5f-a041-6db9f2298399"
      },
      "source": [
        "# bitcoin\tbuy bitcoin\tsell bitcoin rows are the google trends data \n",
        "\n",
        "df = pd.read_csv('data/train.csv')\n",
        "\n",
        "df['future_price'] = df['close'].shift(-PREDICT_PERIOD)\n",
        "df['label'] = list(map(label_class,df['open'], df['future_price']))\n",
        "\n",
        "df = df.drop(['date','high','low','hourly_chg', 'close'], axis=1)\n",
        "\n",
        "print(len(df))\n",
        "print(df['label'].value_counts())\n",
        "df.head()"
      ],
      "execution_count": 252,
      "outputs": [
        {
          "output_type": "stream",
          "name": "stdout",
          "text": [
            "5237\n",
            "1    2682\n",
            "0    2555\n",
            "Name: label, dtype: int64\n"
          ]
        },
        {
          "output_type": "execute_result",
          "data": {
            "text/html": [
              "<div>\n",
              "<style scoped>\n",
              "    .dataframe tbody tr th:only-of-type {\n",
              "        vertical-align: middle;\n",
              "    }\n",
              "\n",
              "    .dataframe tbody tr th {\n",
              "        vertical-align: top;\n",
              "    }\n",
              "\n",
              "    .dataframe thead th {\n",
              "        text-align: right;\n",
              "    }\n",
              "</style>\n",
              "<table border=\"1\" class=\"dataframe\">\n",
              "  <thead>\n",
              "    <tr style=\"text-align: right;\">\n",
              "      <th></th>\n",
              "      <th>open</th>\n",
              "      <th>volume</th>\n",
              "      <th>bitcoin</th>\n",
              "      <th>buy bitcoin</th>\n",
              "      <th>sell bitcoin</th>\n",
              "      <th>label</th>\n",
              "      <th>future_price</th>\n",
              "    </tr>\n",
              "  </thead>\n",
              "  <tbody>\n",
              "    <tr>\n",
              "      <th>0</th>\n",
              "      <td>28923.63</td>\n",
              "      <td>2311.811445</td>\n",
              "      <td>6.060473</td>\n",
              "      <td>17.243750</td>\n",
              "      <td>16.277042</td>\n",
              "      <td>1</td>\n",
              "      <td>29278.40</td>\n",
              "    </tr>\n",
              "    <tr>\n",
              "      <th>1</th>\n",
              "      <td>28995.13</td>\n",
              "      <td>5403.068471</td>\n",
              "      <td>5.836011</td>\n",
              "      <td>20.378977</td>\n",
              "      <td>22.380932</td>\n",
              "      <td>1</td>\n",
              "      <td>29220.31</td>\n",
              "    </tr>\n",
              "    <tr>\n",
              "      <th>2</th>\n",
              "      <td>29410.00</td>\n",
              "      <td>2384.231560</td>\n",
              "      <td>5.611549</td>\n",
              "      <td>20.378977</td>\n",
              "      <td>21.363617</td>\n",
              "      <td>0</td>\n",
              "      <td>29187.01</td>\n",
              "    </tr>\n",
              "    <tr>\n",
              "      <th>3</th>\n",
              "      <td>29195.25</td>\n",
              "      <td>1461.345077</td>\n",
              "      <td>5.162626</td>\n",
              "      <td>19.595170</td>\n",
              "      <td>18.311672</td>\n",
              "      <td>0</td>\n",
              "      <td>29174.35</td>\n",
              "    </tr>\n",
              "    <tr>\n",
              "      <th>4</th>\n",
              "      <td>29278.41</td>\n",
              "      <td>2038.046803</td>\n",
              "      <td>5.162626</td>\n",
              "      <td>20.378977</td>\n",
              "      <td>16.277042</td>\n",
              "      <td>0</td>\n",
              "      <td>29092.83</td>\n",
              "    </tr>\n",
              "  </tbody>\n",
              "</table>\n",
              "</div>"
            ],
            "text/plain": [
              "       open       volume   bitcoin  ...  sell bitcoin  label  future_price\n",
              "0  28923.63  2311.811445  6.060473  ...     16.277042      1      29278.40\n",
              "1  28995.13  5403.068471  5.836011  ...     22.380932      1      29220.31\n",
              "2  29410.00  2384.231560  5.611549  ...     21.363617      0      29187.01\n",
              "3  29195.25  1461.345077  5.162626  ...     18.311672      0      29174.35\n",
              "4  29278.41  2038.046803  5.162626  ...     16.277042      0      29092.83\n",
              "\n",
              "[5 rows x 7 columns]"
            ]
          },
          "metadata": {},
          "execution_count": 252
        }
      ]
    },
    {
      "cell_type": "code",
      "metadata": {
        "colab": {
          "base_uri": "https://localhost:8080/",
          "height": 282
        },
        "id": "91mRaWcZ6EII",
        "outputId": "9bfb144a-9f32-4722-980b-6c866931c47d"
      },
      "source": [
        "seaborn.lineplot(data=[df['open'], df['volume']])"
      ],
      "execution_count": 20,
      "outputs": [
        {
          "output_type": "execute_result",
          "data": {
            "text/plain": [
              "<matplotlib.axes._subplots.AxesSubplot at 0x7fbd523e3550>"
            ]
          },
          "metadata": {},
          "execution_count": 20
        },
        {
          "output_type": "display_data",
          "data": {
            "image/png": "[encoded data removed]",
            "text/plain": [
              "<Figure size 432x288 with 1 Axes>"
            ]
          },
          "metadata": {
            "needs_background": "light"
          }
        }
      ]
    },
    {
      "cell_type": "code",
      "metadata": {
        "colab": {
          "base_uri": "https://localhost:8080/",
          "height": 175
        },
        "id": "5vWsTXt7zl0q",
        "outputId": "22e1ed36-6c1a-415f-feac-1ba5c39e5c36"
      },
      "source": [
        "val_df = df.iloc[int(len(df)*0.85):]\n",
        "train_df = df.iloc[:int(len(df)*0.85)]\n",
        "\n",
        "print(len(val_df))\n",
        "print(len(train_df))\n",
        "val_df.head(3)"
      ],
      "execution_count": 87,
      "outputs": [
        {
          "output_type": "stream",
          "name": "stdout",
          "text": [
            "786\n",
            "4451\n"
          ]
        },
        {
          "output_type": "execute_result",
          "data": {
            "text/html": [
              "<div>\n",
              "<style scoped>\n",
              "    .dataframe tbody tr th:only-of-type {\n",
              "        vertical-align: middle;\n",
              "    }\n",
              "\n",
              "    .dataframe tbody tr th {\n",
              "        vertical-align: top;\n",
              "    }\n",
              "\n",
              "    .dataframe thead th {\n",
              "        text-align: right;\n",
              "    }\n",
              "</style>\n",
              "<table border=\"1\" class=\"dataframe\">\n",
              "  <thead>\n",
              "    <tr style=\"text-align: right;\">\n",
              "      <th></th>\n",
              "      <th>open</th>\n",
              "      <th>volume</th>\n",
              "      <th>bitcoin</th>\n",
              "      <th>buy bitcoin</th>\n",
              "      <th>sell bitcoin</th>\n",
              "      <th>label</th>\n",
              "      <th>future_price</th>\n",
              "    </tr>\n",
              "  </thead>\n",
              "  <tbody>\n",
              "    <tr>\n",
              "      <th>4451</th>\n",
              "      <td>33982.03</td>\n",
              "      <td>2057.821377</td>\n",
              "      <td>16.877738</td>\n",
              "      <td>12.876401</td>\n",
              "      <td>9.034113</td>\n",
              "      <td>0</td>\n",
              "      <td>33960.48</td>\n",
              "    </tr>\n",
              "    <tr>\n",
              "      <th>4452</th>\n",
              "      <td>34117.98</td>\n",
              "      <td>2604.753990</td>\n",
              "      <td>17.859002</td>\n",
              "      <td>14.307113</td>\n",
              "      <td>9.742671</td>\n",
              "      <td>0</td>\n",
              "      <td>33690.14</td>\n",
              "    </tr>\n",
              "    <tr>\n",
              "      <th>4453</th>\n",
              "      <td>33842.18</td>\n",
              "      <td>1488.432410</td>\n",
              "      <td>17.662749</td>\n",
              "      <td>15.737824</td>\n",
              "      <td>10.274090</td>\n",
              "      <td>1</td>\n",
              "      <td>34042.88</td>\n",
              "    </tr>\n",
              "  </tbody>\n",
              "</table>\n",
              "</div>"
            ],
            "text/plain": [
              "          open       volume    bitcoin  ...  sell bitcoin  label  future_price\n",
              "4451  33982.03  2057.821377  16.877738  ...      9.034113      0      33960.48\n",
              "4452  34117.98  2604.753990  17.859002  ...      9.742671      0      33690.14\n",
              "4453  33842.18  1488.432410  17.662749  ...     10.274090      1      34042.88\n",
              "\n",
              "[3 rows x 7 columns]"
            ]
          },
          "metadata": {},
          "execution_count": 87
        }
      ]
    },
    {
      "cell_type": "code",
      "metadata": {
        "id": "mbKFSw1SCF9_"
      },
      "source": [
        "def prepare_df(dataframe):\n",
        "  for col in dataframe.columns:\n",
        "    if col != 'label':\n",
        "      dataframe[col] = dataframe[col].pct_change()\n",
        "      dataframe.dropna(inplace=True)\n",
        "      dataframe[col] = preprocessing.scale(dataframe[col].values)\n",
        "  dataframe.dropna(inplace=True)\n",
        "\n",
        "  x = dataframe.drop(['label', 'future_price'], axis=1)\n",
        "  y = dataframe['label']\n",
        "\n",
        "\n",
        "  return np.array(x), np.array(y)"
      ],
      "execution_count": 220,
      "outputs": []
    },
    {
      "cell_type": "code",
      "metadata": {
        "id": "KAQ6Co9bB88i"
      },
      "source": [
        "train_x, train_y = prepare_df(train_df)\n",
        "val_x, val_y = prepare_df(val_df)"
      ],
      "execution_count": null,
      "outputs": []
    },
    {
      "cell_type": "code",
      "metadata": {
        "id": "wtf4PRq9YIw_"
      },
      "source": [
        "from tensorflow.keras.utils import to_categorical\n",
        "\n",
        "val_x = np.expand_dims(val_x, axis=0)\n",
        "train_x = np.expand_dims(train_x, axis=0)\n",
        "\n",
        "val_x = val_x.reshape(val_x.shape[1], val_x.shape[0], -1)\n",
        "train_x = train_x.reshape(train_x.shape[1], train_x.shape[0],-1)\n",
        "\n",
        "train_y = to_categorical(train_y, 2)\n",
        "val_y = to_categorical(val_y, 2)"
      ],
      "execution_count": null,
      "outputs": []
    },
    {
      "cell_type": "code",
      "metadata": {
        "id": "tLVyx2hsOpOl"
      },
      "source": [
        "EPOCHS = 50\n",
        "BATCH_SIZE = 32\n",
        "NAME = f\"BTC_{PREDICT_PERIOD}hours_{int(time.time())}\""
      ],
      "execution_count": 249,
      "outputs": []
    },
    {
      "cell_type": "code",
      "metadata": {
        "id": "gcfGWvV5Py-z"
      },
      "source": [
        "model = Sequential()\n",
        "model.add(LSTM(128, return_sequences=True, input_shape=train_x.shape))\n",
        "model.add(Dropout(0.2))\n",
        "model.add(BatchNormalization())\n",
        "\n",
        "model.add(LSTM(128,return_sequences=True, input_shape=train_x.shape))\n",
        "model.add(Dropout(0.1))\n",
        "model.add(BatchNormalization())\n",
        "\n",
        "model.add(LSTM(128, input_shape=train_x.shape))\n",
        "model.add(Dropout(0.2))\n",
        "model.add(BatchNormalization())\n",
        "\n",
        "model.add(Dense(32,activation='relu'))\n",
        "model.add(Dropout(0.2))\n",
        "\n",
        "model.add(Dense(2,activation='softmax'))"
      ],
      "execution_count": 214,
      "outputs": []
    },
    {
      "cell_type": "code",
      "metadata": {
        "colab": {
          "base_uri": "https://localhost:8080/"
        },
        "id": "WyzS2ZhqXO39",
        "outputId": "67445f50-a831-4b6a-ab9f-d84063dd0374"
      },
      "source": [
        "model.summary()"
      ],
      "execution_count": 250,
      "outputs": [
        {
          "output_type": "stream",
          "name": "stdout",
          "text": [
            "Model: \"sequential_15\"\n",
            "_________________________________________________________________\n",
            "Layer (type)                 Output Shape              Param #   \n",
            "=================================================================\n",
            "lstm_28 (LSTM)               (None, 4372, 128)         68608     \n",
            "_________________________________________________________________\n",
            "dropout_26 (Dropout)         (None, 4372, 128)         0         \n",
            "_________________________________________________________________\n",
            "batch_normalization_20 (Batc (None, 4372, 128)         512       \n",
            "_________________________________________________________________\n",
            "lstm_29 (LSTM)               (None, 4372, 128)         131584    \n",
            "_________________________________________________________________\n",
            "dropout_27 (Dropout)         (None, 4372, 128)         0         \n",
            "_________________________________________________________________\n",
            "batch_normalization_21 (Batc (None, 4372, 128)         512       \n",
            "_________________________________________________________________\n",
            "lstm_30 (LSTM)               (None, 128)               131584    \n",
            "_________________________________________________________________\n",
            "dropout_28 (Dropout)         (None, 128)               0         \n",
            "_________________________________________________________________\n",
            "batch_normalization_22 (Batc (None, 128)               512       \n",
            "_________________________________________________________________\n",
            "dense_12 (Dense)             (None, 32)                4128      \n",
            "_________________________________________________________________\n",
            "dropout_29 (Dropout)         (None, 32)                0         \n",
            "_________________________________________________________________\n",
            "dense_13 (Dense)             (None, 2)                 66        \n",
            "=================================================================\n",
            "Total params: 337,506\n",
            "Trainable params: 336,738\n",
            "Non-trainable params: 768\n",
            "_________________________________________________________________\n"
          ]
        }
      ]
    },
    {
      "cell_type": "code",
      "metadata": {
        "id": "Ua6PIH8pRkTS"
      },
      "source": [
        "callback = ModelCheckpoint(f\"{NAME}.h5\", monitor=\"val_accuracy\", verbose=1, save_best_only=True)\n",
        "\n",
        "model.compile(optimizer=tf.keras.optimizers.Adam(learning_rate=0.001),loss=\"categorical_crossentropy\", metrics=['accuracy'])\n",
        "model.fit(train_x, train_y, epochs=EPOCHS,batch_size=BATCH_SIZE,callbacks=[callback], validation_data=(val_x, val_y))"
      ],
      "execution_count": null,
      "outputs": []
    }
  ]
}