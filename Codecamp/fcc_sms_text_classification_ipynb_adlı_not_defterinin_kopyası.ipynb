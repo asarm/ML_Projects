{
  "nbformat": 4,
  "nbformat_minor": 0,
  "metadata": {
    "colab": {
      "name": "fcc_sms_text_classification.ipynb adlı not defterinin kopyası",
      "private_outputs": true,
      "provenance": [],
      "collapsed_sections": [],
      "toc_visible": true
    },
    "kernelspec": {
      "display_name": "Python 3",
      "name": "python3"
    }
  },
  "cells": [
    {
      "cell_type": "markdown",
      "metadata": {
        "id": "Eg62Pmz3o83v"
      },
      "source": [
        "*Note: You are currently reading this using Google Colaboratory which is a cloud-hosted version of Jupyter Notebook. This is a document containing both text cells for documentation and runnable code cells. If you are unfamiliar with Jupyter Notebook, watch this 3-minute introduction before starting this challenge: https://www.youtube.com/watch?v=inN8seMm7UI*\n",
        "\n",
        "---\n",
        "\n",
        "In this challenge, you need to create a machine learning model that will classify SMS messages as either \"ham\" or \"spam\". A \"ham\" message is a normal message sent by a friend. A \"spam\" message is an advertisement or a message sent by a company.\n",
        "\n",
        "You should create a function called `predict_message` that takes a message string as an argument and returns a list. The first element in the list should be a number between zero and one that indicates the likeliness of \"ham\" (0) or \"spam\" (1). The second element in the list should be the word \"ham\" or \"spam\", depending on which is most likely.\n",
        "\n",
        "For this challenge, you will use the [SMS Spam Collection dataset](http://www.dt.fee.unicamp.br/~tiago/smsspamcollection/). The dataset has already been grouped into train data and test data.\n",
        "\n",
        "The first two cells import the libraries and data. The final cell tests your model and function. Add your code in between these cells.\n"
      ]
    },
    {
      "cell_type": "code",
      "metadata": {
        "id": "8RZOuS9LWQvv"
      },
      "source": [
        "# import libraries\n",
        "try:\n",
        "  # %tensorflow_version only exists in Colab.\n",
        "  !pip install tf-nightly\n",
        "except Exception:\n",
        "  pass\n",
        "import tensorflow as tf\n",
        "import pandas as pd\n",
        "from tensorflow import keras\n",
        "!pip install tensorflow-datasets\n",
        "import tensorflow_datasets as tfds\n",
        "import numpy as np\n",
        "import matplotlib.pyplot as plt\n",
        "\n",
        "print(tf.__version__)"
      ],
      "execution_count": null,
      "outputs": []
    },
    {
      "cell_type": "code",
      "metadata": {
        "id": "lMHwYXHXCar3"
      },
      "source": [
        "# get data files\n",
        "!wget https://cdn.freecodecamp.org/project-data/sms/train-data.tsv\n",
        "!wget https://cdn.freecodecamp.org/project-data/sms/valid-data.tsv\n",
        "\n",
        "train_file_path = \"train-data.tsv\"\n",
        "test_file_path = \"valid-data.tsv\""
      ],
      "execution_count": null,
      "outputs": []
    },
    {
      "cell_type": "code",
      "metadata": {
        "id": "g_h508FEClxO"
      },
      "source": [
        "import csv\r\n",
        "X_train = []\r\n",
        "y_train = []\r\n",
        "X_test = []\r\n",
        "y_test = []\r\n",
        "tsv_file = open(train_file_path)\r\n",
        "read_tsv = csv.reader(tsv_file, delimiter=\"\\t\")\r\n",
        "\r\n",
        "for txt in read_tsv:\r\n",
        "  if txt[0] == \"ham\":\r\n",
        "    y_train.append(0)\r\n",
        "  else:\r\n",
        "    y_train.append(1)\r\n",
        "  X_train.append(txt[1])\r\n",
        "\r\n",
        "tsv_file = open(test_file_path)\r\n",
        "read_tsv = csv.reader(tsv_file, delimiter=\"\\t\")\r\n",
        "\r\n",
        "for txt in read_tsv:\r\n",
        "  if txt[0] == \"ham\":\r\n",
        "    y_test.append(0)\r\n",
        "  else:\r\n",
        "    y_test.append(1)\r\n",
        "  X_test.append(txt[1])"
      ],
      "execution_count": null,
      "outputs": []
    },
    {
      "cell_type": "code",
      "metadata": {
        "id": "xP2IkZp8dwZM"
      },
      "source": [
        ""
      ],
      "execution_count": null,
      "outputs": []
    },
    {
      "cell_type": "code",
      "metadata": {
        "id": "zOMKywn4zReN"
      },
      "source": [
        "from keras.preprocessing import sequence\r\n",
        "from keras.preprocessing.text import Tokenizer\r\n",
        "from keras.preprocessing.sequence import pad_sequences\r\n",
        "\r\n",
        "tokenizer = Tokenizer(num_words=7700, split=' ')\r\n",
        "tokenizer.fit_on_texts(X_train)\r\n",
        "print(tokenizer.word_index)\r\n",
        "X_tokens = tokenizer.texts_to_sequences(X_train)\r\n",
        "X_pad = pad_sequences(X_tokens)\r\n",
        "print(X_pad[0])"
      ],
      "execution_count": null,
      "outputs": []
    },
    {
      "cell_type": "code",
      "metadata": {
        "id": "codDR6oDcnXK"
      },
      "source": [
        "model = keras.Sequential()\r\n",
        "\r\n",
        "model.add(tf.keras.layers.Embedding(7700,32))\r\n",
        "model.add(tf.keras.layers.LSTM(32))\r\n",
        "model.add(tf.keras.layers.Dense(1,'sigmoid'))"
      ],
      "execution_count": null,
      "outputs": []
    },
    {
      "cell_type": "code",
      "metadata": {
        "id": "H7R6PRSSdT0p"
      },
      "source": [
        "model.summary()"
      ],
      "execution_count": null,
      "outputs": []
    },
    {
      "cell_type": "code",
      "metadata": {
        "id": "Zfo0VooVdYbv"
      },
      "source": [
        "model.compile(loss = 'binary_crossentropy', optimizer='adam',metrics = ['accuracy'])"
      ],
      "execution_count": null,
      "outputs": []
    },
    {
      "cell_type": "code",
      "metadata": {
        "id": "lbnydxZQeikN"
      },
      "source": [
        "y_train = np.array(y_train)\r\n",
        "y_test = np.array(y_test)"
      ],
      "execution_count": null,
      "outputs": []
    },
    {
      "cell_type": "code",
      "metadata": {
        "id": "QXIVS7UNdYjN"
      },
      "source": [
        "model.fit(X_pad,y_train,epochs=6,validation_split=0.2)"
      ],
      "execution_count": null,
      "outputs": []
    },
    {
      "cell_type": "code",
      "metadata": {
        "id": "o7ReH30Qe-4D"
      },
      "source": [
        "word_index = tokenizer.word_index\r\n",
        "\r\n",
        "def encode(text):\r\n",
        "  txt_tokens = keras.preprocessing.text.text_to_word_sequence(text)\r\n",
        "  txt_tokens = [word_index[word] if word in word_index else 0 for word in txt_tokens]\r\n",
        "  return(sequence.pad_sequences([txt_tokens],250)[0])\r\n",
        "\r\n",
        "encoded = encode(\"you can never do nothing\")\r\n",
        "encoded"
      ],
      "execution_count": null,
      "outputs": []
    },
    {
      "cell_type": "code",
      "metadata": {
        "id": "BJoeRTbajcyF"
      },
      "source": [
        "reverse_word_index = {value : key for (key,value) in word_index.items()}\r\n",
        "def decode(integers):\r\n",
        "  PAD = 0\r\n",
        "  text = \"\"\r\n",
        "  for num in integers:\r\n",
        "    if num != PAD:\r\n",
        "      text += reverse_word_index[num]+\" \"\r\n",
        "  return text[:-1]\r\n",
        "\r\n",
        "print(decode(encoded))"
      ],
      "execution_count": null,
      "outputs": []
    },
    {
      "cell_type": "code",
      "metadata": {
        "id": "Se_mm6x0lgWI"
      },
      "source": [
        "def predict(text):\r\n",
        "  encoded_text = encode(text)\r\n",
        "  pred = np.zeros((1,250))\r\n",
        "  pred[0] = encoded_text\r\n",
        "  result = model.predict(pred)\r\n",
        "  return(result)\r\n",
        "\r\n",
        "predict(\"I loved this movie\")"
      ],
      "execution_count": null,
      "outputs": []
    },
    {
      "cell_type": "code",
      "metadata": {
        "id": "J9tD9yACG6M9"
      },
      "source": [
        "# function to predict messages based on model\n",
        "# (should return list containing prediction and label, ex. [0.008318834938108921, 'ham'])\n",
        "def predict_message(text):\n",
        "  encoded_text = encode(text)\n",
        "  pred = np.zeros((1,250))\n",
        "  pred[0] = encoded_text\n",
        "  prediction = model.predict(pred)[0]\n",
        "  label = \"\"\n",
        "  if prediction <= 0.1:\n",
        "    label = \"ham\"\n",
        "  else:\n",
        "    label = \"spam\"\n",
        "  \n",
        "  result = []\n",
        "  result.append(prediction[0])\n",
        "  result.append(label)\n",
        "  return result\n",
        "\n",
        "test_messages = [\"how are you doing today\",\n",
        "                   \"sale today! to stop texts call 98912460324\",\n",
        "                   \"i dont want to go. can we try it a different day? available sat\",\n",
        "                   \"our new mobile video service is live. just install on your phone to start watching.\",\n",
        "                   \"you have won £1000 cash! call to claim your prize.\",\n",
        "                   \"i'll bring it tomorrow. don't forget the milk.\",\n",
        "                   \"wow, is your arm alright. that happened to me one time too\"]\n",
        "                \n",
        "for msg in test_messages:\n",
        "  prediction = predict_message(msg)\n",
        "  print(prediction)  "
      ],
      "execution_count": null,
      "outputs": []
    },
    {
      "cell_type": "code",
      "metadata": {
        "id": "Dxotov85SjsC"
      },
      "source": [
        "# Run this cell to test your function and model. Do not modify contents.\n",
        "def test_predictions():\n",
        "  test_messages = [\"how are you doing today\",\n",
        "                   \"sale today! to stop texts call 98912460324\",\n",
        "                   \"i dont want to go. can we try it a different day? available sat\",\n",
        "                   \"our new mobile video service is live. just install on your phone to start watching.\",\n",
        "                   \"you have won £1000 cash! call to claim your prize.\",\n",
        "                   \"i'll bring it tomorrow. don't forget the milk.\",\n",
        "                   \"wow, is your arm alright. that happened to me one time too\"\n",
        "                  ]\n",
        "\n",
        "  test_answers = [\"ham\", \"spam\", \"ham\", \"spam\", \"spam\", \"ham\", \"ham\"]\n",
        "  passed = True\n",
        "\n",
        "  for msg, ans in zip(test_messages, test_answers):\n",
        "    prediction = predict_message(msg)\n",
        "    if prediction[1] != ans:\n",
        "      passed = False\n",
        "\n",
        "  if passed:\n",
        "    print(\"You passed the challenge. Great job!\")\n",
        "  else:\n",
        "    print(\"You haven't passed yet. Keep trying.\")\n",
        "\n",
        "test_predictions()\n"
      ],
      "execution_count": null,
      "outputs": []
    }
  ]
}
