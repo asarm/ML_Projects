{
  "nbformat": 4,
  "nbformat_minor": 0,
  "metadata": {
    "colab": {
      "name": "x_ray.ipynb",
      "provenance": [],
      "collapsed_sections": [],
      "toc_visible": true
    },
    "kernelspec": {
      "name": "python3",
      "display_name": "Python 3"
    },
    "language_info": {
      "name": "python"
    }
  },
  "cells": [
    {
      "cell_type": "code",
      "metadata": {
        "id": "ycaKuUCe7OKO"
      },
      "source": [
        "import keras\n",
        "import tensorflow as tf\n",
        "from tensorflow.keras.preprocessing.image import ImageDataGenerator\n",
        "from keras.models import Sequential, Model, model_from_json\n",
        "from keras.layers import Dense, Conv2D, Activation, MaxPool2D, Flatten, Dropout, BatchNormalization, MaxPooling2D, Input\n",
        "import cv2\n",
        "from google.colab.patches import cv2_imshow\n",
        "\n",
        "import numpy as np\n",
        "import pandas as pd\n",
        "from matplotlib import pyplot as plt\n",
        "from os import listdir, chdir"
      ],
      "execution_count": null,
      "outputs": []
    },
    {
      "cell_type": "markdown",
      "metadata": {
        "id": "22amGO3v8HuB"
      },
      "source": [
        "## Data Generation"
      ]
    },
    {
      "cell_type": "code",
      "metadata": {
        "colab": {
          "base_uri": "https://localhost:8080/"
        },
        "id": "GjCdCQIa8MTy",
        "outputId": "b99132c6-64c3-48e9-ab4f-19cc89e8fc46"
      },
      "source": [
        "datagen = ImageDataGenerator(\n",
        "    rescale = 1./255,\n",
        "    rotation_range = 5,\n",
        "    zoom_range = (0.85, 0.95),\n",
        "    horizontal_flip = True,\n",
        "    vertical_flip = False,\n",
        "    data_format = 'channels_last',\n",
        "    validation_split = 0.15,\n",
        "    dtype = tf.float32\n",
        ")\n",
        "\n",
        "train_generator = datagen.flow_from_directory('chest_xray_data/train', \n",
        "                                              target_size=(120,120),\n",
        "                                              batch_size=16, color_mode='grayscale', \n",
        "                                              class_mode='categorical', shuffle=True, \n",
        "                                              subset='training', seed=123)\n",
        "\n",
        "val_generator = datagen.flow_from_directory('chest_xray_data/train', \n",
        "                                              target_size=(120,120),\n",
        "                                              batch_size=16, color_mode='grayscale', \n",
        "                                              class_mode='categorical', shuffle=True, \n",
        "                                              subset='validation', seed=123) "
      ],
      "execution_count": null,
      "outputs": [
        {
          "output_type": "stream",
          "text": [
            "Found 849 images belonging to 2 classes.\n",
            "Found 149 images belonging to 2 classes.\n"
          ],
          "name": "stdout"
        }
      ]
    },
    {
      "cell_type": "code",
      "metadata": {
        "colab": {
          "base_uri": "https://localhost:8080/"
        },
        "id": "u7-OKgKe_xwj",
        "outputId": "022b85af-026f-4164-9684-74b12772ee7d"
      },
      "source": [
        "print(train_generator.class_indices)"
      ],
      "execution_count": null,
      "outputs": [
        {
          "output_type": "execute_result",
          "data": {
            "text/plain": [
              "{'NORMAL': 0, 'PNEUMONIA': 1}"
            ]
          },
          "metadata": {
            "tags": []
          },
          "execution_count": 5
        }
      ]
    },
    {
      "cell_type": "markdown",
      "metadata": {
        "id": "JJa4rM-RHQQs"
      },
      "source": [
        "## Model Generation"
      ]
    },
    {
      "cell_type": "code",
      "metadata": {
        "id": "9FxHhb7N_3aU"
      },
      "source": [
        "model = Sequential()\n",
        "model.add(Conv2D(32, 3, data_format=\"channels_last\", padding='same', input_shape=(120,120,1)))\n",
        "\n",
        "model.add(Conv2D(64, 3, padding='same'))\n",
        "model.add(Activation  ('relu'))\n",
        "\n",
        "model.add(MaxPooling2D())\n",
        "\n",
        "model.add(Conv2D(64, 3, padding='same'))\n",
        "model.add(Activation('relu'))\n",
        "\n",
        "model.add(MaxPooling2D())\n",
        "\n",
        "#model.add(Conv2D(128, 3, padding='same'))\n",
        "#model.add(Activation('relu'))\n",
        "\n",
        "#model.add(MaxPooling2D())\n",
        "\n",
        "model.add(Flatten())\n",
        "\n",
        "model.add(Dense(64)) # 16\n",
        "Activation('relu')\n",
        "model.add(Dropout(0.5))\n",
        "\n",
        "model.add(Dense(32)) # 16\n",
        "Activation('relu')\n",
        "model.add(Dropout(0.5))\n",
        "\n",
        "model.add(Dense(2))\n",
        "model.add(Activation('sigmoid')) # softmax\n",
        "\n",
        "# categorical_crossentropy\n",
        "model.compile(loss='binary_crossentropy', optimizer=keras.optimizers.Adam(learning_rate=0.001), metrics=['accuracy']) # adam, adadelta, keras.optimizers.SGD()?\n",
        "print(model.summary())"
      ],
      "execution_count": null,
      "outputs": []
    },
    {
      "cell_type": "markdown",
      "metadata": {
        "id": "f3jrZ8WvHVPu"
      },
      "source": [
        "## Training"
      ]
    },
    {
      "cell_type": "code",
      "metadata": {
        "colab": {
          "base_uri": "https://localhost:8080/"
        },
        "id": "045Epak2AJqQ",
        "outputId": "f33cddac-ae70-4b4e-8e2a-f0c7d4884f2c"
      },
      "source": [
        "hist = model.fit(train_generator, validation_data=val_generator , epochs=15, batch_size=16)"
      ],
      "execution_count": null,
      "outputs": [
        {
          "output_type": "stream",
          "text": [
            "Epoch 1/15\n",
            "54/54 [==============================] - 11s 190ms/step - loss: 0.7018 - accuracy: 0.6181 - val_loss: 0.7105 - val_accuracy: 0.6443\n",
            "Epoch 2/15\n",
            "54/54 [==============================] - 10s 183ms/step - loss: 0.6247 - accuracy: 0.6770 - val_loss: 0.4520 - val_accuracy: 0.8054\n",
            "Epoch 3/15\n",
            "54/54 [==============================] - 10s 184ms/step - loss: 0.4483 - accuracy: 0.7984 - val_loss: 0.3809 - val_accuracy: 0.8322\n",
            "Epoch 4/15\n",
            "54/54 [==============================] - 10s 184ms/step - loss: 0.4219 - accuracy: 0.8356 - val_loss: 0.2512 - val_accuracy: 0.8926\n",
            "Epoch 5/15\n",
            "54/54 [==============================] - 10s 185ms/step - loss: 0.3110 - accuracy: 0.8755 - val_loss: 0.2506 - val_accuracy: 0.8993\n",
            "Epoch 6/15\n",
            "54/54 [==============================] - 10s 185ms/step - loss: 0.2806 - accuracy: 0.8962 - val_loss: 0.2419 - val_accuracy: 0.9128\n",
            "Epoch 7/15\n",
            "54/54 [==============================] - 10s 184ms/step - loss: 0.2902 - accuracy: 0.8863 - val_loss: 0.2486 - val_accuracy: 0.8926\n",
            "Epoch 8/15\n",
            "54/54 [==============================] - 10s 185ms/step - loss: 0.2662 - accuracy: 0.8946 - val_loss: 0.1546 - val_accuracy: 0.9463\n",
            "Epoch 9/15\n",
            "54/54 [==============================] - 10s 185ms/step - loss: 0.3181 - accuracy: 0.8731 - val_loss: 0.2607 - val_accuracy: 0.8591\n",
            "Epoch 10/15\n",
            "54/54 [==============================] - 10s 184ms/step - loss: 0.2602 - accuracy: 0.8930 - val_loss: 0.1130 - val_accuracy: 0.9597\n",
            "Epoch 11/15\n",
            "54/54 [==============================] - 10s 187ms/step - loss: 0.2035 - accuracy: 0.9115 - val_loss: 0.1452 - val_accuracy: 0.9396\n",
            "Epoch 12/15\n",
            "54/54 [==============================] - 10s 185ms/step - loss: 0.2344 - accuracy: 0.9056 - val_loss: 0.6112 - val_accuracy: 0.7718\n",
            "Epoch 13/15\n",
            "54/54 [==============================] - 10s 187ms/step - loss: 0.2852 - accuracy: 0.8789 - val_loss: 0.5539 - val_accuracy: 0.7651\n",
            "Epoch 14/15\n",
            "54/54 [==============================] - 10s 185ms/step - loss: 0.2690 - accuracy: 0.8967 - val_loss: 0.1147 - val_accuracy: 0.9664\n",
            "Epoch 15/15\n",
            "54/54 [==============================] - 10s 182ms/step - loss: 0.2000 - accuracy: 0.9283 - val_loss: 0.0918 - val_accuracy: 0.9866\n"
          ],
          "name": "stdout"
        }
      ]
    },
    {
      "cell_type": "code",
      "metadata": {
        "colab": {
          "base_uri": "https://localhost:8080/",
          "height": 571
        },
        "id": "mxHspWrNAPNt",
        "outputId": "adcfa7c0-c964-46a0-9f6e-06af838e03ba"
      },
      "source": [
        "plt.suptitle('Training', fontsize=10)\n",
        "plt.ylabel('Loss', fontsize=16)\n",
        "plt.plot(hist.history['loss'], color ='r', label='Training Loss')\n",
        "plt.plot(hist.history['val_loss'], color ='b', label='Val. Loss')\n",
        "plt.legend(loc='upper right')\n",
        "plt.show()\n",
        "\n",
        "plt.suptitle('Tranining', fontsize=10)\n",
        "plt.ylabel('Accuracy', fontsize=16)\n",
        "plt.plot(hist.history['accuracy'], color ='r', label='Training accuracy')\n",
        "plt.plot(hist.history['val_accuracy'], color ='b', label='Val. accuracy')\n",
        "plt.legend(loc='upper right')\n",
        "plt.show()"
      ],
      "execution_count": null,
      "outputs": [
        {
          "output_type": "display_data",
          "data": {
            "image/png": "[encoded data removed]",
            "text/plain": [
              "<Figure size 432x288 with 1 Axes>"
            ]
          },
          "metadata": {
            "tags": [],
            "needs_background": "light"
          }
        },
        {
          "output_type": "display_data",
          "data": {
            "image/png": "[encoded data removed]",
            "text/plain": [
              "<Figure size 432x288 with 1 Axes>"
            ]
          },
          "metadata": {
            "tags": [],
            "needs_background": "light"
          }
        }
      ]
    },
    {
      "cell_type": "code",
      "metadata": {
        "id": "U29XAFkMHOXz"
      },
      "source": [
        "model.save('models/x_ray_modelV3.h5')"
      ],
      "execution_count": null,
      "outputs": []
    },
    {
      "cell_type": "markdown",
      "metadata": {
        "id": "k0zp50ZYh80s"
      },
      "source": [
        "## Convert to TFlite"
      ]
    },
    {
      "cell_type": "code",
      "metadata": {
        "colab": {
          "base_uri": "https://localhost:8080/"
        },
        "id": "DmYlQ2gniDdQ",
        "outputId": "0e972b7e-36de-4b20-9739-b5df38fa6b88"
      },
      "source": [
        "converter = tf.lite.TFLiteConverter.from_keras_model(model) \n",
        "tflite_model = converter.convert() \n",
        "\n",
        "with open('model.tflite', 'wb') as f:\n",
        "  f.write(tflite_model)"
      ],
      "execution_count": null,
      "outputs": [
        {
          "output_type": "stream",
          "text": [
            "INFO:tensorflow:Assets written to: /tmp/tmp0stfkldc/assets\n"
          ],
          "name": "stdout"
        },
        {
          "output_type": "stream",
          "text": [
            "INFO:tensorflow:Assets written to: /tmp/tmp0stfkldc/assets\n"
          ],
          "name": "stderr"
        }
      ]
    }
  ]
}