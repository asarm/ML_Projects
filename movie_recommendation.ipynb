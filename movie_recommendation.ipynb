{
  "nbformat": 4,
  "nbformat_minor": 0,
  "metadata": {
    "colab": {
      "name": "movie_recommendation.ipynb",
      "provenance": [],
      "mount_file_id": "1LTcZqRe9uk86tqJR8Gg7UhwShhKPG_q8",
      "authorship_tag": "ABX9TyPIGWZQWOV8uY9v7HSdRJ1t",
      "include_colab_link": true
    },
    "kernelspec": {
      "name": "python3",
      "display_name": "Python 3"
    },
    "language_info": {
      "name": "python"
    }
  },
  "cells": [
    {
      "cell_type": "code",
      "metadata": {
        "colab": {
          "base_uri": "https://localhost:8080/"
        },
        "id": "FV8ktubTFoyO",
        "outputId": "26953a1b-34ee-4431-f034-e3c07537173a"
      },
      "source": [
        "%cd /content/drive/MyDrive/Colab Notebooks/udemy_ml"
      ],
      "execution_count": 1,
      "outputs": [
        {
          "output_type": "stream",
          "name": "stdout",
          "text": [
            "/content/drive/MyDrive/Colab Notebooks/udemy_ml\n"
          ]
        }
      ]
    },
    {
      "cell_type": "code",
      "metadata": {
        "id": "QRrWQEjQFJxp"
      },
      "source": [
        "\n",
        "import pandas as pd\n",
        "import numpy as np\n",
        "import matplotlib.pyplot as plt\n",
        "import seaborn as sns"
      ],
      "execution_count": 2,
      "outputs": []
    },
    {
      "cell_type": "code",
      "metadata": {
        "colab": {
          "base_uri": "https://localhost:8080/"
        },
        "id": "UcEMhHO_Ft6F",
        "outputId": "3a2ced30-7701-41a7-8e1f-7a44af46aee3"
      },
      "source": [
        "df = pd.read_csv('wiki_movies.csv')\n",
        "print(df.head(1))\n",
        "print(df.keys())\n",
        "print(df.shape)"
      ],
      "execution_count": 3,
      "outputs": [
        {
          "output_type": "stream",
          "name": "stdout",
          "text": [
            "   Release Year  ...                                               Plot\n",
            "0          1901  ...  A bartender is working at a saloon, serving dr...\n",
            "\n",
            "[1 rows x 8 columns]\n",
            "Index(['Release Year', 'Title', 'Origin/Ethnicity', 'Director', 'Cast',\n",
            "       'Genre', 'Wiki Page', 'Plot'],\n",
            "      dtype='object')\n"
          ]
        }
      ]
    },
    {
      "cell_type": "code",
      "metadata": {
        "colab": {
          "base_uri": "https://localhost:8080/"
        },
        "id": "aUT9KsO7Slqd",
        "outputId": "08492b37-ec72-485b-94ff-e74cea4ac454"
      },
      "source": [
        "final_df = df[df['Release Year'] > 2012]\n",
        "final_df = final_df.drop('Wiki Page', axis=1)\n",
        "print(final_df.shape)\n",
        "print(final_df.head(3)['Title'])\n",
        "print(final_df[final_df['Title'] == '16 Blocks']['Plot'])"
      ],
      "execution_count": 5,
      "outputs": [
        {
          "output_type": "stream",
          "name": "stdout",
          "text": [
            "(4137, 7)\n",
            "16409                   2 Guns\n",
            "16410    12 Rounds 2: Reloaded\n",
            "16411         12 Years a Slave\n",
            "Name: Title, dtype: object\n",
            "Series([], Name: Plot, dtype: object)\n"
          ]
        }
      ]
    },
    {
      "cell_type": "markdown",
      "metadata": {
        "id": "p4zXuL-kUS23"
      },
      "source": [
        "# Cleaning"
      ]
    },
    {
      "cell_type": "code",
      "metadata": {
        "colab": {
          "base_uri": "https://localhost:8080/"
        },
        "id": "54X-2srLTnzA",
        "outputId": "7c306e64-6ef6-4ee0-a7aa-a50002be2025"
      },
      "source": [
        "import nltk\n",
        "import string\n",
        "nltk.download('punkt')\n",
        "nltk.download('wordnet')\n",
        "nltk.download('stopwords')\n",
        "\n",
        "from nltk.stem import WordNetLemmatizer\n",
        "from nltk.corpus import stopwords\n",
        "\n",
        "lemmatizer = WordNetLemmatizer()"
      ],
      "execution_count": 6,
      "outputs": [
        {
          "output_type": "stream",
          "name": "stdout",
          "text": [
            "[nltk_data] Downloading package punkt to /root/nltk_data...\n",
            "[nltk_data]   Unzipping tokenizers/punkt.zip.\n",
            "[nltk_data] Downloading package wordnet to /root/nltk_data...\n",
            "[nltk_data]   Unzipping corpora/wordnet.zip.\n",
            "[nltk_data] Downloading package stopwords to /root/nltk_data...\n",
            "[nltk_data]   Unzipping corpora/stopwords.zip.\n"
          ]
        }
      ]
    },
    {
      "cell_type": "code",
      "metadata": {
        "id": "eij1YgX3T5GI"
      },
      "source": [
        "def clean_sentences(text):\n",
        "  text = text.lower()\n",
        "  words = nltk.word_tokenize(text)\n",
        "  new_sent = [lemmatizer.lemmatize(word) for word in words if word not in stopwords.words('english')]\n",
        "  new_sent = [word for word in new_sent if word not in string.punctuation]\n",
        "  new_sent = ' '.join(new_sent)\n",
        "\n",
        "  new_sent = new_sent.replace(\"n't\",'not')\n",
        "  new_sent = new_sent.replace(\"'m\",'am')\n",
        "  new_sent = new_sent.replace(\"'s\",'is')\n",
        "  new_sent = new_sent.replace(\"'re\",'are')\n",
        "  new_sent = new_sent.replace(\"'ll\",'will')\n",
        "  new_sent = new_sent.replace(\"'d\",'would')\n",
        "  new_sent = new_sent.replace(\"'ve\",'have')\n",
        "  \n",
        "  return new_sent\n",
        "\n",
        "final_df['new_plot'] = final_df['Plot'].apply(clean_sentences)"
      ],
      "execution_count": 7,
      "outputs": []
    },
    {
      "cell_type": "code",
      "metadata": {
        "colab": {
          "base_uri": "https://localhost:8080/",
          "height": 161
        },
        "id": "ujFw75knaRE9",
        "outputId": "632098af-c70a-4283-e8da-fefd014c175d"
      },
      "source": [
        "final_df = final_df.reset_index(drop=True)\n",
        "final_df.head(2)"
      ],
      "execution_count": 8,
      "outputs": [
        {
          "output_type": "execute_result",
          "data": {
            "text/html": [
              "<div>\n",
              "<style scoped>\n",
              "    .dataframe tbody tr th:only-of-type {\n",
              "        vertical-align: middle;\n",
              "    }\n",
              "\n",
              "    .dataframe tbody tr th {\n",
              "        vertical-align: top;\n",
              "    }\n",
              "\n",
              "    .dataframe thead th {\n",
              "        text-align: right;\n",
              "    }\n",
              "</style>\n",
              "<table border=\"1\" class=\"dataframe\">\n",
              "  <thead>\n",
              "    <tr style=\"text-align: right;\">\n",
              "      <th></th>\n",
              "      <th>Release Year</th>\n",
              "      <th>Title</th>\n",
              "      <th>Origin/Ethnicity</th>\n",
              "      <th>Director</th>\n",
              "      <th>Cast</th>\n",
              "      <th>Genre</th>\n",
              "      <th>Plot</th>\n",
              "      <th>new_plot</th>\n",
              "    </tr>\n",
              "  </thead>\n",
              "  <tbody>\n",
              "    <tr>\n",
              "      <th>0</th>\n",
              "      <td>2013</td>\n",
              "      <td>2 Guns</td>\n",
              "      <td>American</td>\n",
              "      <td>Baltasar Kormákur</td>\n",
              "      <td>Denzel Washington, Mark Wahlberg, Paula Patton...</td>\n",
              "      <td>action comedy</td>\n",
              "      <td>Criminals Robert \"Bobby\" Beans (Denzel Washing...</td>\n",
              "      <td>criminal robert `` bobby '' bean denzel washin...</td>\n",
              "    </tr>\n",
              "    <tr>\n",
              "      <th>1</th>\n",
              "      <td>2013</td>\n",
              "      <td>12 Rounds 2: Reloaded</td>\n",
              "      <td>American</td>\n",
              "      <td>Roel Reiné</td>\n",
              "      <td>Randy Orton, Brian Markinson, Venus Terzo</td>\n",
              "      <td>action</td>\n",
              "      <td>Paramedic Nick Malloy and his wife Sarah are g...</td>\n",
              "      <td>paramedic nick malloy wife sarah going home mo...</td>\n",
              "    </tr>\n",
              "  </tbody>\n",
              "</table>\n",
              "</div>"
            ],
            "text/plain": [
              "   Release Year  ...                                           new_plot\n",
              "0          2013  ...  criminal robert `` bobby '' bean denzel washin...\n",
              "1          2013  ...  paramedic nick malloy wife sarah going home mo...\n",
              "\n",
              "[2 rows x 8 columns]"
            ]
          },
          "metadata": {},
          "execution_count": 8
        }
      ]
    },
    {
      "cell_type": "markdown",
      "metadata": {
        "id": "QRun1r_2jbCZ"
      },
      "source": [
        "# TF-IDF"
      ]
    },
    {
      "cell_type": "code",
      "metadata": {
        "id": "T9yOQNGAjc-X"
      },
      "source": [
        "from sklearn.feature_extraction.text import TfidfVectorizer\n",
        "\n",
        "tfidf = TfidfVectorizer()\n",
        "tfidf_movies = tfidf.fit_transform(final_df['new_plot']) "
      ],
      "execution_count": 9,
      "outputs": []
    },
    {
      "cell_type": "code",
      "metadata": {
        "id": "J5COFQxDnKM0"
      },
      "source": [
        "from sklearn.metrics.pairwise import cosine_similarity\n",
        "\n",
        "df_to_sim = final_df[['Title', 'new_plot']]\n",
        "similarity = cosine_similarity(tfidf_movies, tfidf_movies)\n",
        "indices = pd.Series(final_df.index)"
      ],
      "execution_count": 18,
      "outputs": []
    },
    {
      "cell_type": "code",
      "metadata": {
        "id": "NRO00D1VnZD4"
      },
      "source": [
        "def recommendation(title, cosine_sim=similarity):\n",
        "  try:\n",
        "    index = final_df[final_df['Title'] == title].index[0]\n",
        "    scores = pd.Series(similarity[index]).sort_values(ascending= False)[1:10]\n",
        "    top_movies = [final_df.iloc[i] for i in scores.index]\n",
        "    return pd.DataFrame(top_movies)\n",
        "  except:\n",
        "    return \"No match found\""
      ],
      "execution_count": 19,
      "outputs": []
    },
    {
      "cell_type": "code",
      "metadata": {
        "colab": {
          "base_uri": "https://localhost:8080/"
        },
        "id": "F07hAgoJoXSe",
        "outputId": "9b2cccc4-0bba-4c66-f096-e2d5185a993e"
      },
      "source": [
        "print(recommendation('Dracula: The Dark Prince')['Title'])"
      ],
      "execution_count": 20,
      "outputs": [
        {
          "output_type": "stream",
          "name": "stdout",
          "text": [
            "2076                       Race 2\n",
            "464                Dracula Untold\n",
            "3854            The Very Best Day\n",
            "455                 The Equalizer\n",
            "242               Rapture-Palooza\n",
            "1112           Summer in February\n",
            "795          Beauty and the Beast\n",
            "322           Black Water Vampire\n",
            "107     Fright Night 2: New Blood\n",
            "Name: Title, dtype: object\n"
          ]
        }
      ]
    }
  ]
}
